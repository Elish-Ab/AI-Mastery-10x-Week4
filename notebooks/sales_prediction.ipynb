{
 "cells": [
  {
   "cell_type": "code",
   "execution_count": 1,
   "metadata": {},
   "outputs": [],
   "source": [
    "import pandas as pd\n",
    "import sys, os\n",
    "# Importing necessary libraries (assuming they're not included in the module)\n",
    "import warnings\n",
    "warnings.filterwarnings('ignore')  # To suppress any warnings for clearer output"
   ]
  },
  {
   "cell_type": "code",
   "execution_count": 2,
   "metadata": {},
   "outputs": [],
   "source": [
    "#Adding the directory\n",
    "sys.path.append(os.path.abspath('../scripts'))"
   ]
  },
  {
   "cell_type": "code",
   "execution_count": 3,
   "metadata": {},
   "outputs": [],
   "source": [
    "import sales_prediction as da"
   ]
  },
  {
   "cell_type": "code",
   "execution_count": 4,
   "metadata": {},
   "outputs": [
    {
     "name": "stderr",
     "output_type": "stream",
     "text": [
      "2024-09-24 23:00:40,116 - INFO - Loading data from file in notebooks dir\n",
      "2024-09-24 23:00:40,181 - INFO - Data loaded with shape (1115, 10)\n",
      "2024-09-24 23:00:40,181 - INFO - Loading data from file in notebooks dir\n",
      "2024-09-24 23:00:45,530 - INFO - Data loaded with shape (1017209, 9)\n",
      "2024-09-24 23:00:45,530 - INFO - Loading data from file in notebooks dir\n",
      "2024-09-24 23:00:45,906 - INFO - Data loaded with shape (41088, 8)\n"
     ]
    }
   ],
   "source": [
    "store_data=da.load_data('store.csv')\n",
    "train_data=da.load_data('train.csv')\n",
    "test_data=da.load_data('test.csv')"
   ]
  },
  {
   "cell_type": "code",
   "execution_count": 5,
   "metadata": {},
   "outputs": [
    {
     "name": "stdout",
     "output_type": "stream",
     "text": [
      "Columns ['StoreType', 'Assortment'] are missing in the DataFrame. Skipping encoding for these columns.\n"
     ]
    },
    {
     "data": {
      "text/plain": [
       "(         Store  DayOfWeek        Date  Customers  Open  Promo  SchoolHoliday  \\\n",
       " 0            1          5  2015-07-31        555     1      1              1   \n",
       " 1            2          5  2015-07-31        625     1      1              1   \n",
       " 2            3          5  2015-07-31        821     1      1              1   \n",
       " 3            4          5  2015-07-31       1498     1      1              1   \n",
       " 4            5          5  2015-07-31        559     1      1              1   \n",
       " ...        ...        ...         ...        ...   ...    ...            ...   \n",
       " 1017204   1111          2  2013-01-01          0     0      0              1   \n",
       " 1017205   1112          2  2013-01-01          0     0      0              1   \n",
       " 1017206   1113          2  2013-01-01          0     0      0              1   \n",
       " 1017207   1114          2  2013-01-01          0     0      0              1   \n",
       " 1017208   1115          2  2013-01-01          0     0      0              1   \n",
       " \n",
       "          IsWeekend  StateHoliday_0  StateHoliday_0  StateHoliday_a  \\\n",
       " 0                1           False            True           False   \n",
       " 1                1           False            True           False   \n",
       " 2                1           False            True           False   \n",
       " 3                1           False            True           False   \n",
       " 4                1           False            True           False   \n",
       " ...            ...             ...             ...             ...   \n",
       " 1017204          0           False           False            True   \n",
       " 1017205          0           False           False            True   \n",
       " 1017206          0           False           False            True   \n",
       " 1017207          0           False           False            True   \n",
       " 1017208          0           False           False            True   \n",
       " \n",
       "          StateHoliday_b  StateHoliday_c  \n",
       " 0                 False           False  \n",
       " 1                 False           False  \n",
       " 2                 False           False  \n",
       " 3                 False           False  \n",
       " 4                 False           False  \n",
       " ...                 ...             ...  \n",
       " 1017204           False           False  \n",
       " 1017205           False           False  \n",
       " 1017206           False           False  \n",
       " 1017207           False           False  \n",
       " 1017208           False           False  \n",
       " \n",
       " [1017209 rows x 13 columns],\n",
       " 0           5263\n",
       " 1           6064\n",
       " 2           8314\n",
       " 3          13995\n",
       " 4           4822\n",
       "            ...  \n",
       " 1017204        0\n",
       " 1017205        0\n",
       " 1017206        0\n",
       " 1017207        0\n",
       " 1017208        0\n",
       " Name: Sales, Length: 1017209, dtype: int64)"
      ]
     },
     "execution_count": 5,
     "metadata": {},
     "output_type": "execute_result"
    }
   ],
   "source": [
    "da.preprocess_data(train_data)"
   ]
  },
  {
   "cell_type": "code",
   "execution_count": 7,
   "metadata": {},
   "outputs": [
    {
     "name": "stderr",
     "output_type": "stream",
     "text": [
      "2024-09-24 23:00:47,379 - INFO - Store data is now clean\n"
     ]
    },
    {
     "name": "stdout",
     "output_type": "stream",
     "text": [
      "Columns ['StoreType', 'Assortment'] are missing in the DataFrame. Skipping encoding for these columns.\n"
     ]
    }
   ],
   "source": [
    "da.build_model(train_data)"
   ]
  },
  {
   "cell_type": "code",
   "execution_count": null,
   "metadata": {},
   "outputs": [],
   "source": []
  }
 ],
 "metadata": {
  "kernelspec": {
   "display_name": "Python 3",
   "language": "python",
   "name": "python3"
  },
  "language_info": {
   "codemirror_mode": {
    "name": "ipython",
    "version": 3
   },
   "file_extension": ".py",
   "mimetype": "text/x-python",
   "name": "python",
   "nbconvert_exporter": "python",
   "pygments_lexer": "ipython3",
   "version": "3.11.0"
  }
 },
 "nbformat": 4,
 "nbformat_minor": 2
}
