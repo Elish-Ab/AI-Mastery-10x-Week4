{
 "cells": [
  {
   "cell_type": "code",
   "execution_count": 1,
   "metadata": {},
   "outputs": [],
   "source": [
    "import pandas as pd\n",
    "import sys, os\n",
    "# Importing necessary libraries (assuming they're not included in the module)\n",
    "import warnings\n",
    "warnings.filterwarnings('ignore')  # To suppress any warnings for clearer output"
   ]
  },
  {
   "cell_type": "code",
   "execution_count": 2,
   "metadata": {},
   "outputs": [],
   "source": [
    "#Adding the directory\n",
    "sys.path.append(os.path.abspath('../scripts'))"
   ]
  },
  {
   "cell_type": "code",
   "execution_count": 3,
   "metadata": {},
   "outputs": [],
   "source": [
    "import sales_prediction as da"
   ]
  },
  {
   "cell_type": "code",
   "execution_count": 4,
   "metadata": {},
   "outputs": [
    {
     "name": "stderr",
     "output_type": "stream",
     "text": [
      "2024-09-26 10:02:53,986 - INFO - Loading data from file in notebooks dir\n",
      "2024-09-26 10:02:56,743 - INFO - Data loaded with shape (1017209, 9)\n",
      "2024-09-26 10:02:56,745 - INFO - Loading data from file in notebooks dir\n",
      "2024-09-26 10:02:56,795 - INFO - Data loaded with shape (41088, 8)\n"
     ]
    }
   ],
   "source": [
    "train_data=da.load_data('train.csv')\n",
    "test_data=da.load_data('test.csv')"
   ]
  },
  {
   "cell_type": "code",
   "execution_count": 5,
   "metadata": {},
   "outputs": [
    {
     "name": "stdout",
     "output_type": "stream",
     "text": [
      "Columns ['StoreType', 'Assortment'] are missing in the DataFrame. Skipping encoding for these columns.\n"
     ]
    },
    {
     "data": {
      "text/plain": [
       "(         Store  DayOfWeek        Date  Customers  Open  Promo  SchoolHoliday  \\\n",
       " 0            1          5  2015-07-31        555     1      1              1   \n",
       " 1            2          5  2015-07-31        625     1      1              1   \n",
       " 2            3          5  2015-07-31        821     1      1              1   \n",
       " 3            4          5  2015-07-31       1498     1      1              1   \n",
       " 4            5          5  2015-07-31        559     1      1              1   \n",
       " ...        ...        ...         ...        ...   ...    ...            ...   \n",
       " 1017204   1111          2  2013-01-01          0     0      0              1   \n",
       " 1017205   1112          2  2013-01-01          0     0      0              1   \n",
       " 1017206   1113          2  2013-01-01          0     0      0              1   \n",
       " 1017207   1114          2  2013-01-01          0     0      0              1   \n",
       " 1017208   1115          2  2013-01-01          0     0      0              1   \n",
       " \n",
       "          IsWeekend  StateHoliday_0  StateHoliday_0  StateHoliday_a  \\\n",
       " 0                1           False            True           False   \n",
       " 1                1           False            True           False   \n",
       " 2                1           False            True           False   \n",
       " 3                1           False            True           False   \n",
       " 4                1           False            True           False   \n",
       " ...            ...             ...             ...             ...   \n",
       " 1017204          0           False           False            True   \n",
       " 1017205          0           False           False            True   \n",
       " 1017206          0           False           False            True   \n",
       " 1017207          0           False           False            True   \n",
       " 1017208          0           False           False            True   \n",
       " \n",
       "          StateHoliday_b  StateHoliday_c  \n",
       " 0                 False           False  \n",
       " 1                 False           False  \n",
       " 2                 False           False  \n",
       " 3                 False           False  \n",
       " 4                 False           False  \n",
       " ...                 ...             ...  \n",
       " 1017204           False           False  \n",
       " 1017205           False           False  \n",
       " 1017206           False           False  \n",
       " 1017207           False           False  \n",
       " 1017208           False           False  \n",
       " \n",
       " [1017209 rows x 13 columns],\n",
       " 0           5263\n",
       " 1           6064\n",
       " 2           8314\n",
       " 3          13995\n",
       " 4           4822\n",
       "            ...  \n",
       " 1017204        0\n",
       " 1017205        0\n",
       " 1017206        0\n",
       " 1017207        0\n",
       " 1017208        0\n",
       " Name: Sales, Length: 1017209, dtype: int64)"
      ]
     },
     "execution_count": 5,
     "metadata": {},
     "output_type": "execute_result"
    }
   ],
   "source": [
    "da.preprocess_data(train_data)"
   ]
  },
  {
   "cell_type": "code",
   "execution_count": 6,
   "metadata": {},
   "outputs": [
    {
     "name": "stderr",
     "output_type": "stream",
     "text": [
      "2024-09-26 10:02:57,676 - INFO - Building the model\n"
     ]
    },
    {
     "name": "stdout",
     "output_type": "stream",
     "text": [
      "Columns ['StoreType', 'Assortment'] are missing in the DataFrame. Skipping encoding for these columns.\n"
     ]
    },
    {
     "name": "stderr",
     "output_type": "stream",
     "text": [
      "2024-09-26 10:11:45,596 - INFO - Fitted the model\n"
     ]
    }
   ],
   "source": [
    "pipeline, X_val, y_val = da.build_model(train_data)"
   ]
  },
  {
   "cell_type": "code",
   "execution_count": 7,
   "metadata": {},
   "outputs": [
    {
     "name": "stderr",
     "output_type": "stream",
     "text": [
      "2024-09-26 10:11:45,653 - INFO - Predicting  the Sales\n"
     ]
    }
   ],
   "source": [
    "y_pred = da.predict_data(pipeline, X_val)"
   ]
  },
  {
   "cell_type": "code",
   "execution_count": 8,
   "metadata": {},
   "outputs": [
    {
     "data": {
      "text/plain": [
       "13.705118394821111"
      ]
     },
     "execution_count": 8,
     "metadata": {},
     "output_type": "execute_result"
    }
   ],
   "source": [
    "da.custom_loss(y_val,y_pred)"
   ]
  },
  {
   "cell_type": "code",
   "execution_count": 9,
   "metadata": {},
   "outputs": [
    {
     "name": "stderr",
     "output_type": "stream",
     "text": [
      "2024-09-26 10:11:49,153 - INFO - Predicting  the Sales\n"
     ]
    },
    {
     "name": "stdout",
     "output_type": "stream",
     "text": [
      "Feature Importances:\n",
      "Store: 0.04887086318507632\n",
      "DayOfWeek: 0.009279968801014636\n",
      "Date: 0.8637217847737397\n",
      "Customers: 0.0\n",
      "Open: 0.02254976022179645\n",
      "Promo: 0.0014570922120601799\n",
      "SchoolHoliday: 0.0\n",
      "IsWeekend: 3.826884834803404e-05\n",
      "StateHoliday_0: 1.6973661540091175e-05\n",
      "StateHoliday_0: 4.230357211757918e-05\n",
      "StateHoliday_a: 8.487871897025354e-05\n",
      "StateHoliday_b: 1.2740454275840638e-08\n",
      "StateHoliday_c: 0.00011222675031035143\n",
      "Confidence Interval: ±2374.5099035259996\n"
     ]
    }
   ],
   "source": [
    "da.analyze_predictions(pipeline, X_val, y_val)"
   ]
  },
  {
   "cell_type": "code",
   "execution_count": 10,
   "metadata": {},
   "outputs": [
    {
     "name": "stdout",
     "output_type": "stream",
     "text": [
      "Epoch 1/50\n",
      "\u001b[1m24654/24654\u001b[0m \u001b[32m━━━━━━━━━━━━━━━━━━━━\u001b[0m\u001b[37m\u001b[0m \u001b[1m980s\u001b[0m 35ms/step - loss: 0.9018\n",
      "Epoch 2/50\n",
      "\u001b[1m24654/24654\u001b[0m \u001b[32m━━━━━━━━━━━━━━━━━━━━\u001b[0m\u001b[37m\u001b[0m \u001b[1m817s\u001b[0m 33ms/step - loss: 0.8999\n",
      "Epoch 3/50\n",
      "\u001b[1m24654/24654\u001b[0m \u001b[32m━━━━━━━━━━━━━━━━━━━━\u001b[0m\u001b[37m\u001b[0m \u001b[1m882s\u001b[0m 36ms/step - loss: 0.9004\n",
      "Epoch 4/50\n",
      "\u001b[1m24654/24654\u001b[0m \u001b[32m━━━━━━━━━━━━━━━━━━━━\u001b[0m\u001b[37m\u001b[0m \u001b[1m835s\u001b[0m 32ms/step - loss: 0.8995\n",
      "Epoch 5/50\n",
      "\u001b[1m24654/24654\u001b[0m \u001b[32m━━━━━━━━━━━━━━━━━━━━\u001b[0m\u001b[37m\u001b[0m \u001b[1m884s\u001b[0m 35ms/step - loss: 0.8998\n",
      "Epoch 6/50\n",
      "\u001b[1m24654/24654\u001b[0m \u001b[32m━━━━━━━━━━━━━━━━━━━━\u001b[0m\u001b[37m\u001b[0m \u001b[1m228s\u001b[0m 9ms/step - loss: 0.9000\n",
      "Epoch 7/50\n",
      "\u001b[1m24654/24654\u001b[0m \u001b[32m━━━━━━━━━━━━━━━━━━━━\u001b[0m\u001b[37m\u001b[0m \u001b[1m191s\u001b[0m 6ms/step - loss: 0.9000\n",
      "Epoch 8/50\n",
      "\u001b[1m24654/24654\u001b[0m \u001b[32m━━━━━━━━━━━━━━━━━━━━\u001b[0m\u001b[37m\u001b[0m \u001b[1m413s\u001b[0m 17ms/step - loss: 0.9013\n",
      "Epoch 9/50\n",
      "\u001b[1m24654/24654\u001b[0m \u001b[32m━━━━━━━━━━━━━━━━━━━━\u001b[0m\u001b[37m\u001b[0m \u001b[1m634s\u001b[0m 26ms/step - loss: 0.9001\n",
      "Epoch 10/50\n"
     ]
    }
   ],
   "source": [
    "# Build and train the LSTM model\n",
    "lstm_model, data_scaler = da.build_lstm_model(train_data, n_input=10, n_output=1)"
   ]
  },
  {
   "cell_type": "code",
   "execution_count": null,
   "metadata": {},
   "outputs": [],
   "source": [
    "timestamp = \"2024-09-25\"  # Adding timestamp\n",
    "da.serialize_model(pipeline, timestamp)"
   ]
  },
  {
   "cell_type": "code",
   "execution_count": null,
   "metadata": {},
   "outputs": [],
   "source": [
    "da.test_data(test_data)"
   ]
  }
 ],
 "metadata": {
  "kernelspec": {
   "display_name": "Python 3",
   "language": "python",
   "name": "python3"
  },
  "language_info": {
   "codemirror_mode": {
    "name": "ipython",
    "version": 3
   },
   "file_extension": ".py",
   "mimetype": "text/x-python",
   "name": "python",
   "nbconvert_exporter": "python",
   "pygments_lexer": "ipython3",
   "version": "3.11.0"
  }
 },
 "nbformat": 4,
 "nbformat_minor": 2
}
